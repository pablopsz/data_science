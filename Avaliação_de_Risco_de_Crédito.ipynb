{
  "nbformat": 4,
  "nbformat_minor": 0,
  "metadata": {
    "colab": {
      "provenance": [],
      "include_colab_link": true
    },
    "kernelspec": {
      "name": "python3",
      "display_name": "Python 3"
    }
  },
  "cells": [
    {
      "cell_type": "markdown",
      "metadata": {
        "id": "view-in-github",
        "colab_type": "text"
      },
      "source": [
        "<a href=\"https://colab.research.google.com/github/pablopsz/data_science/blob/main/Avalia%C3%A7%C3%A3o_de_Risco_de_Cr%C3%A9dito.ipynb\" target=\"_parent\"><img src=\"https://colab.research.google.com/assets/colab-badge.svg\" alt=\"Open In Colab\"/></a>"
      ]
    },
    {
      "cell_type": "markdown",
      "metadata": {
        "id": "X2k0C9ObFWpR"
      },
      "source": [
        "<img alt=\"Colaboratory logo\" width=\"15%\" src=\"https://raw.githubusercontent.com/carlosfab/escola-data-science/master/img/novo_logo_bg_claro.png\">\n",
        "\n",
        "#### **Data Science na Prática 3.0**\n",
        "*by [sigmoidal.ai](https://sigmoidal.ai)*\n",
        "\n",
        "---"
      ]
    },
    {
      "cell_type": "markdown",
      "metadata": {
        "id": "ZNvmL_lMsAqU"
      },
      "source": [
        "# Avaliação de Risco de Crédito\n",
        "\n",
        "\n",
        "Uma das áreas mais movimentadas no mundo hoje é o mundo dos *bancos*. Afinal, em uma era que você não precisa sair do seu quarto para criar uma conta em um banco digital, quem não tem uma conta?\n",
        "\n",
        "Mas com uma quantidade tão elevada de usuários, como manter um controle de qualidade de cada um? Para isso temos o Machine Learning em nossas vidas!\n",
        "\n",
        "Com nosso aprendizado de máquina, conseguimos estimar se uma pessoa irá deixar de cumprir com suas obrigações financeira, ajudando no controle de *inadimplência* ou \"default\".\n",
        "\n",
        "Avaliar se uma pessoa irá deixar de cumprir com suas obrigações financeiras é de *extrema importância*, e pode causar um grande impacto no balanço da Instituição.\n",
        "\n",
        "*Default* é o termo utilizado para indicado o não cumprimento das obrigações e/ou condições de um empréstimo (como financiamentos ou dívidas de cartão de crédito). Normalmente, o principal motivo para o descumprimento das condições de pagamento é incapacidade financeira do cliente.\n",
        "\n",
        "Segundo um [estudo da Agência Brasil](https://agenciabrasil.ebc.com.br/economia/noticia/2023-12/endividamento-atinge-766-das-familias-brasileiras-mostra-cnc#:~:text=correntes”%2C%20comentou.-,Inadimplência,%2C%20de%2030%2C3), o índice de famílias inadimplentes em novembro de 2023 ficou em 29%.\n",
        "\n",
        "<p align=center>\n",
        "  <img src=\"https://images.unsplash.com/photo-1556742502-ec7c0e9f34b1?ixid=MnwxMjA3fDB8MHxwaG90by1wYWdlfHx8fGVufDB8fHx8&ixlib=rb-1.2.1&auto=format&fit=crop&w=687&q=80\" width=\"40%\">\n",
        "</p>\n",
        "\n",
        "Grandes bancos e Fintechs têm apostado cada vez mais em modelos de *Machine Learning* para previnir a inadimplência de alguns clientes.\n",
        "\n",
        "Dentre as principais instituições financeira, o [Nubank](https://nubank.com.br/sobre-nos) é uma das que mais tem se destacado no uso de Inteligência Artificial e times de *Data Science*.\n",
        "\n",
        "O conjunto de dados a ser utilizado neste Projeto de *Data Science* parte de uma competição realizada pela Startup [Nubank](https://nubank.com.br/sobre-nos) a fim de revelar talentos e potenciais contratações pela Fintech.\n",
        "\n",
        "## Contextualização do Problema\n",
        "\n",
        "Neste problema, o objetivo é prever qual a probabilidade de um cliente da Startup Nubank não coumprir com suas obrigações financeiras e deixar de pagar a sua fatura do Cartão de Crédito.\n",
        "\n",
        "Importante dizer também que, para que seja efetiva, essa avaliação deve ocorrer no momento que o cliente solicita o cartão (geralmente no primeiro contato com a instituição).\n",
        "\n",
        "> OBJETIVO: Criar um modelo que forneça a probabilidade de um cliente virar inadimplente.\n",
        "\n",
        "Espera-se que um modelo seja capaz de minimizar as perdas financeiras do Nubank, porém minimizando também os falsos positivos.\n",
        "\n",
        "### Hipóteses Iniciais\n",
        "\n",
        "* Qual a proporção de clientes normais para clientes inadimplentes?\n",
        "\n",
        "* Quais informações são importante para uma análise de inadimplência?"
      ]
    },
    {
      "cell_type": "markdown",
      "metadata": {
        "id": "5PCK4RxLpqd8"
      },
      "source": [
        "## Importando os Dados\n",
        "\n",
        "Os dados que serão utilizados nesta análise estão disponíveis para download por meio [deste link](http://dl.dropboxusercontent.com/s/xn2a4kzf0zer0xu/acquisition_train.csv?dl=0). Consiste basicamente em um arquivo `csv` contendo 45.000 entradas e 43 colunas.\n",
        "\n",
        "Este arquivo será importando para uma estrutura *DataFrame* utilizando a biblioteca `pandas` a fim de possibilitar sua manipulação e análise."
      ]
    },
    {
      "cell_type": "code",
      "source": [
        "# importar as bibliotecas que utilizaremos\n",
        "import pandas as pd\n",
        "import matplotlib.pyplot as plt\n",
        "import seaborn as sns\n",
        "import numpy as np\n",
        "\n",
        "from sklearn.preprocessing import LabelEncoder, StandardScaler\n",
        "from sklearn.model_selection import train_test_split, cross_val_score\n",
        "from sklearn.pipeline import Pipeline\n",
        "from imblearn.under_sampling import RandomUnderSampler\n",
        "from sklearn.model_selection import StratifiedKFold\n",
        "from sklearn.model_selection import GridSearchCV\n",
        "from sklearn.feature_selection import RFE\n",
        "from sklearn.metrics import accuracy_score, precision_score, recall_score, f1_score, confusion_matrix\n",
        "\n",
        "from sklearn.ensemble import RandomForestClassifier\n",
        "from sklearn.tree import DecisionTreeClassifier\n",
        "from sklearn.linear_model import LogisticRegression\n",
        "from xgboost import XGBClassifier"
      ],
      "metadata": {
        "id": "C68T3H32_tzn"
      },
      "execution_count": 44,
      "outputs": []
    },
    {
      "cell_type": "markdown",
      "source": [
        "Vamos começar importando nossos dados e enxergando as 5 primeiras linhas desses."
      ],
      "metadata": {
        "id": "JkhAvKED_vpo"
      }
    },
    {
      "cell_type": "code",
      "metadata": {
        "id": "PqMaG41qo1Y4",
        "outputId": "87dfb4de-9033-4424-dcfd-cd60a8c8a8c5",
        "colab": {
          "base_uri": "https://localhost:8080/",
          "height": 655
        }
      },
      "source": [
        "# ler nosso arquivo\n",
        "df = pd.read_csv('http://dl.dropboxusercontent.com/s/xn2a4kzf0zer0xu/acquisition_train.csv?dl=0')\n",
        "\n",
        "#ver as 5 primeiras entradas do nosso dataset\n",
        "df.head()"
      ],
      "execution_count": 45,
      "outputs": [
        {
          "output_type": "execute_result",
          "data": {
            "text/plain": [
              "                                    ids target_default  \\\n",
              "0  343b7e7b-2cf8-e508-b8fd-0a0285af30aa          False   \n",
              "1  bc2c7502-bbad-0f8c-39c3-94e881967124          False   \n",
              "2  669630dd-2e6a-0396-84bf-455e5009c922           True   \n",
              "3  d235609e-b6cb-0ccc-a329-d4f12e7ebdc1          False   \n",
              "4  9e0eb880-e8f4-3faa-67d8-f5cdd2b3932b          False   \n",
              "\n",
              "                    score_1                   score_2  score_3     score_4  \\\n",
              "0  1Rk8w4Ucd5yR3KcqZzLdow==  IOVu8au3ISbo6+zmfnYwMg==    350.0  101.800832   \n",
              "1  DGCQep2AE5QRkNCshIAlFQ==  SaamrHMo23l/3TwXOWgVzw==    370.0   97.062615   \n",
              "2  DGCQep2AE5QRkNCshIAlFQ==  Fv28Bz0YRTVAT5kl1bAV6g==    360.0  100.027073   \n",
              "3  1Rk8w4Ucd5yR3KcqZzLdow==  dCm9hFKfdRm7ej3jW+gyxw==    510.0  101.599485   \n",
              "4  8k8UDR4Yx0qasAjkGrUZLw==  +CxEO4w7jv3QPI/BQbyqAA==    500.0   98.474289   \n",
              "\n",
              "    score_5     score_6  risk_rate  last_amount_borrowed  ...  \\\n",
              "0  0.259555  108.427273       0.40              25033.92  ...   \n",
              "1  0.942655   92.002546       0.24                   NaN  ...   \n",
              "2  0.351918  112.892453       0.29               7207.92  ...   \n",
              "3  0.987673   94.902491       0.32                   NaN  ...   \n",
              "4  0.532539  118.126207       0.18                   NaN  ...   \n",
              "\n",
              "   external_data_provider_fraud_score  \\\n",
              "0                                 645   \n",
              "1                                 243   \n",
              "2                                  65   \n",
              "3                                 815   \n",
              "4                                 320   \n",
              "\n",
              "                                      lat_lon marketing_channel  \\\n",
              "0    (-29.151545708122246, -51.1386461804385)      Invite-email   \n",
              "1   (-19.687710705798963, -47.94151536525154)  Radio-commercial   \n",
              "2  (-28.748023890412284, -51.867279334353995)      Waiting-list   \n",
              "3   (-17.520650158450454, -39.75801139933186)      Waiting-list   \n",
              "4   (-16.574259446978008, -39.90990074785962)      Invite-email   \n",
              "\n",
              "   profile_phone_number reported_income shipping_state shipping_zip_code  \\\n",
              "0           514-9840782         57849.0          BR-MT             17528   \n",
              "1           251-3659293          4902.0          BR-RS             40933   \n",
              "2           230-6097993        163679.0          BR-RR             50985   \n",
              "3           261-3543751          1086.0          BR-RN             37825   \n",
              "4           102-3660162        198618.0          BR-MT             52827   \n",
              "\n",
              "                                profile_tags  \\\n",
              "0                    {'tags': ['n19', 'n8']}   \n",
              "1              {'tags': ['n6', 'n7', 'nim']}   \n",
              "2       {'tags': ['n0', 'n17', 'nim', 'da']}   \n",
              "3                           {'tags': ['n4']}   \n",
              "4  {'tags': ['pro+aty', 'n19', 'da', 'b19']}   \n",
              "\n",
              "                                          user_agent target_fraud  \n",
              "0  Mozilla/5.0 (Linux; Android 6.0.1; SGP771 Buil...          NaN  \n",
              "1  Mozilla/5.0 (Linux; Android 5.0.2; SAMSUNG SM-...          NaN  \n",
              "2  Mozilla/5.0 (Linux; Android 6.0.1; SGP771 Buil...          NaN  \n",
              "3  Mozilla/5.0 (Linux; Android 6.0; HTC One X10 B...          NaN  \n",
              "4  Mozilla/5.0 (Linux; Android 7.0; Pixel C Build...          NaN  \n",
              "\n",
              "[5 rows x 43 columns]"
            ],
            "text/html": [
              "\n",
              "  <div id=\"df-fe8ee92d-c1dc-44db-a4da-ee27f8ca7de5\" class=\"colab-df-container\">\n",
              "    <div>\n",
              "<style scoped>\n",
              "    .dataframe tbody tr th:only-of-type {\n",
              "        vertical-align: middle;\n",
              "    }\n",
              "\n",
              "    .dataframe tbody tr th {\n",
              "        vertical-align: top;\n",
              "    }\n",
              "\n",
              "    .dataframe thead th {\n",
              "        text-align: right;\n",
              "    }\n",
              "</style>\n",
              "<table border=\"1\" class=\"dataframe\">\n",
              "  <thead>\n",
              "    <tr style=\"text-align: right;\">\n",
              "      <th></th>\n",
              "      <th>ids</th>\n",
              "      <th>target_default</th>\n",
              "      <th>score_1</th>\n",
              "      <th>score_2</th>\n",
              "      <th>score_3</th>\n",
              "      <th>score_4</th>\n",
              "      <th>score_5</th>\n",
              "      <th>score_6</th>\n",
              "      <th>risk_rate</th>\n",
              "      <th>last_amount_borrowed</th>\n",
              "      <th>...</th>\n",
              "      <th>external_data_provider_fraud_score</th>\n",
              "      <th>lat_lon</th>\n",
              "      <th>marketing_channel</th>\n",
              "      <th>profile_phone_number</th>\n",
              "      <th>reported_income</th>\n",
              "      <th>shipping_state</th>\n",
              "      <th>shipping_zip_code</th>\n",
              "      <th>profile_tags</th>\n",
              "      <th>user_agent</th>\n",
              "      <th>target_fraud</th>\n",
              "    </tr>\n",
              "  </thead>\n",
              "  <tbody>\n",
              "    <tr>\n",
              "      <th>0</th>\n",
              "      <td>343b7e7b-2cf8-e508-b8fd-0a0285af30aa</td>\n",
              "      <td>False</td>\n",
              "      <td>1Rk8w4Ucd5yR3KcqZzLdow==</td>\n",
              "      <td>IOVu8au3ISbo6+zmfnYwMg==</td>\n",
              "      <td>350.0</td>\n",
              "      <td>101.800832</td>\n",
              "      <td>0.259555</td>\n",
              "      <td>108.427273</td>\n",
              "      <td>0.40</td>\n",
              "      <td>25033.92</td>\n",
              "      <td>...</td>\n",
              "      <td>645</td>\n",
              "      <td>(-29.151545708122246, -51.1386461804385)</td>\n",
              "      <td>Invite-email</td>\n",
              "      <td>514-9840782</td>\n",
              "      <td>57849.0</td>\n",
              "      <td>BR-MT</td>\n",
              "      <td>17528</td>\n",
              "      <td>{'tags': ['n19', 'n8']}</td>\n",
              "      <td>Mozilla/5.0 (Linux; Android 6.0.1; SGP771 Buil...</td>\n",
              "      <td>NaN</td>\n",
              "    </tr>\n",
              "    <tr>\n",
              "      <th>1</th>\n",
              "      <td>bc2c7502-bbad-0f8c-39c3-94e881967124</td>\n",
              "      <td>False</td>\n",
              "      <td>DGCQep2AE5QRkNCshIAlFQ==</td>\n",
              "      <td>SaamrHMo23l/3TwXOWgVzw==</td>\n",
              "      <td>370.0</td>\n",
              "      <td>97.062615</td>\n",
              "      <td>0.942655</td>\n",
              "      <td>92.002546</td>\n",
              "      <td>0.24</td>\n",
              "      <td>NaN</td>\n",
              "      <td>...</td>\n",
              "      <td>243</td>\n",
              "      <td>(-19.687710705798963, -47.94151536525154)</td>\n",
              "      <td>Radio-commercial</td>\n",
              "      <td>251-3659293</td>\n",
              "      <td>4902.0</td>\n",
              "      <td>BR-RS</td>\n",
              "      <td>40933</td>\n",
              "      <td>{'tags': ['n6', 'n7', 'nim']}</td>\n",
              "      <td>Mozilla/5.0 (Linux; Android 5.0.2; SAMSUNG SM-...</td>\n",
              "      <td>NaN</td>\n",
              "    </tr>\n",
              "    <tr>\n",
              "      <th>2</th>\n",
              "      <td>669630dd-2e6a-0396-84bf-455e5009c922</td>\n",
              "      <td>True</td>\n",
              "      <td>DGCQep2AE5QRkNCshIAlFQ==</td>\n",
              "      <td>Fv28Bz0YRTVAT5kl1bAV6g==</td>\n",
              "      <td>360.0</td>\n",
              "      <td>100.027073</td>\n",
              "      <td>0.351918</td>\n",
              "      <td>112.892453</td>\n",
              "      <td>0.29</td>\n",
              "      <td>7207.92</td>\n",
              "      <td>...</td>\n",
              "      <td>65</td>\n",
              "      <td>(-28.748023890412284, -51.867279334353995)</td>\n",
              "      <td>Waiting-list</td>\n",
              "      <td>230-6097993</td>\n",
              "      <td>163679.0</td>\n",
              "      <td>BR-RR</td>\n",
              "      <td>50985</td>\n",
              "      <td>{'tags': ['n0', 'n17', 'nim', 'da']}</td>\n",
              "      <td>Mozilla/5.0 (Linux; Android 6.0.1; SGP771 Buil...</td>\n",
              "      <td>NaN</td>\n",
              "    </tr>\n",
              "    <tr>\n",
              "      <th>3</th>\n",
              "      <td>d235609e-b6cb-0ccc-a329-d4f12e7ebdc1</td>\n",
              "      <td>False</td>\n",
              "      <td>1Rk8w4Ucd5yR3KcqZzLdow==</td>\n",
              "      <td>dCm9hFKfdRm7ej3jW+gyxw==</td>\n",
              "      <td>510.0</td>\n",
              "      <td>101.599485</td>\n",
              "      <td>0.987673</td>\n",
              "      <td>94.902491</td>\n",
              "      <td>0.32</td>\n",
              "      <td>NaN</td>\n",
              "      <td>...</td>\n",
              "      <td>815</td>\n",
              "      <td>(-17.520650158450454, -39.75801139933186)</td>\n",
              "      <td>Waiting-list</td>\n",
              "      <td>261-3543751</td>\n",
              "      <td>1086.0</td>\n",
              "      <td>BR-RN</td>\n",
              "      <td>37825</td>\n",
              "      <td>{'tags': ['n4']}</td>\n",
              "      <td>Mozilla/5.0 (Linux; Android 6.0; HTC One X10 B...</td>\n",
              "      <td>NaN</td>\n",
              "    </tr>\n",
              "    <tr>\n",
              "      <th>4</th>\n",
              "      <td>9e0eb880-e8f4-3faa-67d8-f5cdd2b3932b</td>\n",
              "      <td>False</td>\n",
              "      <td>8k8UDR4Yx0qasAjkGrUZLw==</td>\n",
              "      <td>+CxEO4w7jv3QPI/BQbyqAA==</td>\n",
              "      <td>500.0</td>\n",
              "      <td>98.474289</td>\n",
              "      <td>0.532539</td>\n",
              "      <td>118.126207</td>\n",
              "      <td>0.18</td>\n",
              "      <td>NaN</td>\n",
              "      <td>...</td>\n",
              "      <td>320</td>\n",
              "      <td>(-16.574259446978008, -39.90990074785962)</td>\n",
              "      <td>Invite-email</td>\n",
              "      <td>102-3660162</td>\n",
              "      <td>198618.0</td>\n",
              "      <td>BR-MT</td>\n",
              "      <td>52827</td>\n",
              "      <td>{'tags': ['pro+aty', 'n19', 'da', 'b19']}</td>\n",
              "      <td>Mozilla/5.0 (Linux; Android 7.0; Pixel C Build...</td>\n",
              "      <td>NaN</td>\n",
              "    </tr>\n",
              "  </tbody>\n",
              "</table>\n",
              "<p>5 rows × 43 columns</p>\n",
              "</div>\n",
              "    <div class=\"colab-df-buttons\">\n",
              "\n",
              "  <div class=\"colab-df-container\">\n",
              "    <button class=\"colab-df-convert\" onclick=\"convertToInteractive('df-fe8ee92d-c1dc-44db-a4da-ee27f8ca7de5')\"\n",
              "            title=\"Convert this dataframe to an interactive table.\"\n",
              "            style=\"display:none;\">\n",
              "\n",
              "  <svg xmlns=\"http://www.w3.org/2000/svg\" height=\"24px\" viewBox=\"0 -960 960 960\">\n",
              "    <path d=\"M120-120v-720h720v720H120Zm60-500h600v-160H180v160Zm220 220h160v-160H400v160Zm0 220h160v-160H400v160ZM180-400h160v-160H180v160Zm440 0h160v-160H620v160ZM180-180h160v-160H180v160Zm440 0h160v-160H620v160Z\"/>\n",
              "  </svg>\n",
              "    </button>\n",
              "\n",
              "  <style>\n",
              "    .colab-df-container {\n",
              "      display:flex;\n",
              "      gap: 12px;\n",
              "    }\n",
              "\n",
              "    .colab-df-convert {\n",
              "      background-color: #E8F0FE;\n",
              "      border: none;\n",
              "      border-radius: 50%;\n",
              "      cursor: pointer;\n",
              "      display: none;\n",
              "      fill: #1967D2;\n",
              "      height: 32px;\n",
              "      padding: 0 0 0 0;\n",
              "      width: 32px;\n",
              "    }\n",
              "\n",
              "    .colab-df-convert:hover {\n",
              "      background-color: #E2EBFA;\n",
              "      box-shadow: 0px 1px 2px rgba(60, 64, 67, 0.3), 0px 1px 3px 1px rgba(60, 64, 67, 0.15);\n",
              "      fill: #174EA6;\n",
              "    }\n",
              "\n",
              "    .colab-df-buttons div {\n",
              "      margin-bottom: 4px;\n",
              "    }\n",
              "\n",
              "    [theme=dark] .colab-df-convert {\n",
              "      background-color: #3B4455;\n",
              "      fill: #D2E3FC;\n",
              "    }\n",
              "\n",
              "    [theme=dark] .colab-df-convert:hover {\n",
              "      background-color: #434B5C;\n",
              "      box-shadow: 0px 1px 3px 1px rgba(0, 0, 0, 0.15);\n",
              "      filter: drop-shadow(0px 1px 2px rgba(0, 0, 0, 0.3));\n",
              "      fill: #FFFFFF;\n",
              "    }\n",
              "  </style>\n",
              "\n",
              "    <script>\n",
              "      const buttonEl =\n",
              "        document.querySelector('#df-fe8ee92d-c1dc-44db-a4da-ee27f8ca7de5 button.colab-df-convert');\n",
              "      buttonEl.style.display =\n",
              "        google.colab.kernel.accessAllowed ? 'block' : 'none';\n",
              "\n",
              "      async function convertToInteractive(key) {\n",
              "        const element = document.querySelector('#df-fe8ee92d-c1dc-44db-a4da-ee27f8ca7de5');\n",
              "        const dataTable =\n",
              "          await google.colab.kernel.invokeFunction('convertToInteractive',\n",
              "                                                    [key], {});\n",
              "        if (!dataTable) return;\n",
              "\n",
              "        const docLinkHtml = 'Like what you see? Visit the ' +\n",
              "          '<a target=\"_blank\" href=https://colab.research.google.com/notebooks/data_table.ipynb>data table notebook</a>'\n",
              "          + ' to learn more about interactive tables.';\n",
              "        element.innerHTML = '';\n",
              "        dataTable['output_type'] = 'display_data';\n",
              "        await google.colab.output.renderOutput(dataTable, element);\n",
              "        const docLink = document.createElement('div');\n",
              "        docLink.innerHTML = docLinkHtml;\n",
              "        element.appendChild(docLink);\n",
              "      }\n",
              "    </script>\n",
              "  </div>\n",
              "\n",
              "\n",
              "<div id=\"df-dad8e46b-0d31-4e14-9242-2ff3ae4b31b6\">\n",
              "  <button class=\"colab-df-quickchart\" onclick=\"quickchart('df-dad8e46b-0d31-4e14-9242-2ff3ae4b31b6')\"\n",
              "            title=\"Suggest charts\"\n",
              "            style=\"display:none;\">\n",
              "\n",
              "<svg xmlns=\"http://www.w3.org/2000/svg\" height=\"24px\"viewBox=\"0 0 24 24\"\n",
              "     width=\"24px\">\n",
              "    <g>\n",
              "        <path d=\"M19 3H5c-1.1 0-2 .9-2 2v14c0 1.1.9 2 2 2h14c1.1 0 2-.9 2-2V5c0-1.1-.9-2-2-2zM9 17H7v-7h2v7zm4 0h-2V7h2v10zm4 0h-2v-4h2v4z\"/>\n",
              "    </g>\n",
              "</svg>\n",
              "  </button>\n",
              "\n",
              "<style>\n",
              "  .colab-df-quickchart {\n",
              "      --bg-color: #E8F0FE;\n",
              "      --fill-color: #1967D2;\n",
              "      --hover-bg-color: #E2EBFA;\n",
              "      --hover-fill-color: #174EA6;\n",
              "      --disabled-fill-color: #AAA;\n",
              "      --disabled-bg-color: #DDD;\n",
              "  }\n",
              "\n",
              "  [theme=dark] .colab-df-quickchart {\n",
              "      --bg-color: #3B4455;\n",
              "      --fill-color: #D2E3FC;\n",
              "      --hover-bg-color: #434B5C;\n",
              "      --hover-fill-color: #FFFFFF;\n",
              "      --disabled-bg-color: #3B4455;\n",
              "      --disabled-fill-color: #666;\n",
              "  }\n",
              "\n",
              "  .colab-df-quickchart {\n",
              "    background-color: var(--bg-color);\n",
              "    border: none;\n",
              "    border-radius: 50%;\n",
              "    cursor: pointer;\n",
              "    display: none;\n",
              "    fill: var(--fill-color);\n",
              "    height: 32px;\n",
              "    padding: 0;\n",
              "    width: 32px;\n",
              "  }\n",
              "\n",
              "  .colab-df-quickchart:hover {\n",
              "    background-color: var(--hover-bg-color);\n",
              "    box-shadow: 0 1px 2px rgba(60, 64, 67, 0.3), 0 1px 3px 1px rgba(60, 64, 67, 0.15);\n",
              "    fill: var(--button-hover-fill-color);\n",
              "  }\n",
              "\n",
              "  .colab-df-quickchart-complete:disabled,\n",
              "  .colab-df-quickchart-complete:disabled:hover {\n",
              "    background-color: var(--disabled-bg-color);\n",
              "    fill: var(--disabled-fill-color);\n",
              "    box-shadow: none;\n",
              "  }\n",
              "\n",
              "  .colab-df-spinner {\n",
              "    border: 2px solid var(--fill-color);\n",
              "    border-color: transparent;\n",
              "    border-bottom-color: var(--fill-color);\n",
              "    animation:\n",
              "      spin 1s steps(1) infinite;\n",
              "  }\n",
              "\n",
              "  @keyframes spin {\n",
              "    0% {\n",
              "      border-color: transparent;\n",
              "      border-bottom-color: var(--fill-color);\n",
              "      border-left-color: var(--fill-color);\n",
              "    }\n",
              "    20% {\n",
              "      border-color: transparent;\n",
              "      border-left-color: var(--fill-color);\n",
              "      border-top-color: var(--fill-color);\n",
              "    }\n",
              "    30% {\n",
              "      border-color: transparent;\n",
              "      border-left-color: var(--fill-color);\n",
              "      border-top-color: var(--fill-color);\n",
              "      border-right-color: var(--fill-color);\n",
              "    }\n",
              "    40% {\n",
              "      border-color: transparent;\n",
              "      border-right-color: var(--fill-color);\n",
              "      border-top-color: var(--fill-color);\n",
              "    }\n",
              "    60% {\n",
              "      border-color: transparent;\n",
              "      border-right-color: var(--fill-color);\n",
              "    }\n",
              "    80% {\n",
              "      border-color: transparent;\n",
              "      border-right-color: var(--fill-color);\n",
              "      border-bottom-color: var(--fill-color);\n",
              "    }\n",
              "    90% {\n",
              "      border-color: transparent;\n",
              "      border-bottom-color: var(--fill-color);\n",
              "    }\n",
              "  }\n",
              "</style>\n",
              "\n",
              "  <script>\n",
              "    async function quickchart(key) {\n",
              "      const quickchartButtonEl =\n",
              "        document.querySelector('#' + key + ' button');\n",
              "      quickchartButtonEl.disabled = true;  // To prevent multiple clicks.\n",
              "      quickchartButtonEl.classList.add('colab-df-spinner');\n",
              "      try {\n",
              "        const charts = await google.colab.kernel.invokeFunction(\n",
              "            'suggestCharts', [key], {});\n",
              "      } catch (error) {\n",
              "        console.error('Error during call to suggestCharts:', error);\n",
              "      }\n",
              "      quickchartButtonEl.classList.remove('colab-df-spinner');\n",
              "      quickchartButtonEl.classList.add('colab-df-quickchart-complete');\n",
              "    }\n",
              "    (() => {\n",
              "      let quickchartButtonEl =\n",
              "        document.querySelector('#df-dad8e46b-0d31-4e14-9242-2ff3ae4b31b6 button');\n",
              "      quickchartButtonEl.style.display =\n",
              "        google.colab.kernel.accessAllowed ? 'block' : 'none';\n",
              "    })();\n",
              "  </script>\n",
              "</div>\n",
              "\n",
              "    </div>\n",
              "  </div>\n"
            ]
          },
          "metadata": {},
          "execution_count": 45
        }
      ]
    },
    {
      "cell_type": "markdown",
      "source": [
        "## Análise Exploratória\n",
        "\n",
        "Vamos ver algumas características dos nosso dados, como as dimensões, porcentagem de valores ausentes por variável e quantidade de valores únicos por variável."
      ],
      "metadata": {
        "id": "Qw9XJ6siKSXA"
      }
    },
    {
      "cell_type": "code",
      "source": [
        "# ver as dimensoes do dataset\n",
        "print(f'Dimensoes dos nossos dados:{df.shape}\\n')\n",
        "\n",
        "# ver a quantidade de valores ausentes por variavel\n",
        "print(f'Porcentagem de valores ausentes por variável:\\n{df.isnull().sum().sort_values(ascending=False)/df.shape[0]}\\n')\n",
        "\n",
        "# ver a tipagem das colunas\n",
        "print(f'Tipagem das colunas:\\n{df.dtypes.sort_values(ascending=True)}\\n')\n",
        "\n",
        "# ver a quantidade de valores unicos por variavel\n",
        "print(f'Quantidade de valores únicos:\\n{df.nunique().sort_values(ascending=True)}\\n')"
      ],
      "metadata": {
        "id": "5ZDJZY82ItCK",
        "outputId": "3353ca15-a715-4d1a-a120-d54a2ae427b8",
        "colab": {
          "base_uri": "https://localhost:8080/"
        }
      },
      "execution_count": 46,
      "outputs": [
        {
          "output_type": "stream",
          "name": "stdout",
          "text": [
            "Dimensoes dos nossos dados:(45000, 43)\n",
            "\n",
            "Porcentagem de valores ausentes por variável:\n",
            "target_fraud                                        0.966178\n",
            "last_amount_borrowed                                0.665689\n",
            "last_borrowed_in_months                             0.665689\n",
            "ok_since                                            0.589889\n",
            "external_data_provider_credit_checks_last_2_year    0.502844\n",
            "external_data_provider_credit_checks_last_year      0.336089\n",
            "credit_limit                                        0.306667\n",
            "n_issues                                            0.256533\n",
            "facebook_profile                                    0.099067\n",
            "marketing_channel                                   0.079511\n",
            "job_name                                            0.074133\n",
            "target_default                                      0.072422\n",
            "external_data_provider_email_seen_before            0.049622\n",
            "lat_lon                                             0.030289\n",
            "user_agent                                          0.016044\n",
            "n_bankruptcies                                      0.015489\n",
            "n_defaulted_loans                                   0.012756\n",
            "reason                                              0.012578\n",
            "zip                                                 0.012489\n",
            "n_accounts                                          0.012489\n",
            "channel                                             0.012489\n",
            "score_1                                             0.012489\n",
            "score_3                                             0.012489\n",
            "risk_rate                                           0.012489\n",
            "income                                              0.012489\n",
            "real_state                                          0.012489\n",
            "state                                               0.012489\n",
            "score_2                                             0.012489\n",
            "profile_tags                                        0.000000\n",
            "shipping_zip_code                                   0.000000\n",
            "shipping_state                                      0.000000\n",
            "reported_income                                     0.000000\n",
            "profile_phone_number                                0.000000\n",
            "external_data_provider_credit_checks_last_month     0.000000\n",
            "external_data_provider_fraud_score                  0.000000\n",
            "external_data_provider_first_name                   0.000000\n",
            "score_4                                             0.000000\n",
            "score_5                                             0.000000\n",
            "score_6                                             0.000000\n",
            "email                                               0.000000\n",
            "application_time_in_funnel                          0.000000\n",
            "application_time_applied                            0.000000\n",
            "ids                                                 0.000000\n",
            "dtype: float64\n",
            "\n",
            "Tipagem das colunas:\n",
            "external_data_provider_credit_checks_last_month       int64\n",
            "shipping_zip_code                                     int64\n",
            "external_data_provider_fraud_score                    int64\n",
            "application_time_in_funnel                            int64\n",
            "n_bankruptcies                                      float64\n",
            "n_issues                                            float64\n",
            "n_accounts                                          float64\n",
            "n_defaulted_loans                                   float64\n",
            "external_data_provider_credit_checks_last_year      float64\n",
            "ok_since                                            float64\n",
            "external_data_provider_email_seen_before            float64\n",
            "reported_income                                     float64\n",
            "income                                              float64\n",
            "last_borrowed_in_months                             float64\n",
            "last_amount_borrowed                                float64\n",
            "risk_rate                                           float64\n",
            "score_6                                             float64\n",
            "score_5                                             float64\n",
            "score_4                                             float64\n",
            "score_3                                             float64\n",
            "credit_limit                                        float64\n",
            "external_data_provider_credit_checks_last_2_year    float64\n",
            "profile_phone_number                                 object\n",
            "marketing_channel                                    object\n",
            "lat_lon                                              object\n",
            "external_data_provider_first_name                    object\n",
            "shipping_state                                       object\n",
            "profile_tags                                         object\n",
            "ids                                                  object\n",
            "application_time_applied                             object\n",
            "user_agent                                           object\n",
            "real_state                                           object\n",
            "job_name                                             object\n",
            "channel                                              object\n",
            "zip                                                  object\n",
            "state                                                object\n",
            "facebook_profile                                     object\n",
            "reason                                               object\n",
            "score_2                                              object\n",
            "score_1                                              object\n",
            "target_default                                       object\n",
            "email                                                object\n",
            "target_fraud                                         object\n",
            "dtype: object\n",
            "\n",
            "Quantidade de valores únicos:\n",
            "external_data_provider_credit_checks_last_2_year        1\n",
            "channel                                                 1\n",
            "target_fraud                                            2\n",
            "target_default                                          2\n",
            "external_data_provider_credit_checks_last_year          2\n",
            "facebook_profile                                        2\n",
            "last_borrowed_in_months                                 2\n",
            "external_data_provider_credit_checks_last_month         4\n",
            "n_defaulted_loans                                       5\n",
            "real_state                                              5\n",
            "email                                                   6\n",
            "n_bankruptcies                                          6\n",
            "score_1                                                 7\n",
            "marketing_channel                                       9\n",
            "shipping_state                                         25\n",
            "score_2                                                35\n",
            "n_issues                                               44\n",
            "n_accounts                                             44\n",
            "state                                                  50\n",
            "external_data_provider_email_seen_before               62\n",
            "risk_rate                                              82\n",
            "score_3                                                88\n",
            "ok_since                                              100\n",
            "user_agent                                            297\n",
            "application_time_in_funnel                            501\n",
            "zip                                                   823\n",
            "external_data_provider_fraud_score                   1001\n",
            "last_amount_borrowed                                14325\n",
            "reason                                              14874\n",
            "credit_limit                                        20928\n",
            "lat_lon                                             22412\n",
            "profile_tags                                        26131\n",
            "shipping_zip_code                                   28263\n",
            "job_name                                            32265\n",
            "external_data_provider_first_name                   32886\n",
            "application_time_applied                            35543\n",
            "reported_income                                     40025\n",
            "income                                              41211\n",
            "score_4                                             45000\n",
            "score_5                                             45000\n",
            "score_6                                             45000\n",
            "profile_phone_number                                45000\n",
            "ids                                                 45000\n",
            "dtype: int64\n",
            "\n"
          ]
        }
      ]
    },
    {
      "cell_type": "markdown",
      "source": [
        "Desde já, podemos enxergar algumas peculiaridades em nossos dados:\n",
        "\n",
        "* Se trata de um grande número de colunas, provavelmente teremos que trabalhar com seleção de variáveis (antes mesmo das transformações que realizaremos mais tarde no projeto).\n",
        "* Um número significativo de variáveis possuem dados ausentes, essas deverão ser trabalhadas.\n",
        "* Cerca de 7.2% dos dados da noss variável alvo estão ausentes.\n",
        "* Temos variáveis com valores únicos por linha, assim como temos variáveis com um único valor em todas as linhas.\n",
        "* Algumas variáveis possuem a exata mesma quantidade de valores nulos.\n",
        "\n",
        "Vamos começar nossa limpeza. Para facilitar a tomada de decisão em cada caso, farei uma função para que possamos ver que tipo de informação está presente em cada variável."
      ],
      "metadata": {
        "id": "Wuli71LwMfXO"
      }
    },
    {
      "cell_type": "code",
      "source": [
        "# criar a funcao\n",
        "def unique_val (df):\n",
        "\n",
        "  '''A lógica dessa função é verificar se a variável possui valores ausentes\n",
        "  e depois mostrar dados da variável como o nome, quantidade de valores únicos,\n",
        "  se de fato ela possui valores ausentes e os valores únicos da variável'''\n",
        "\n",
        "  for col in df.columns:\n",
        "\n",
        "    val_null = ['Sim' if df[col].isnull().sum() > 0 else 'Nao']\n",
        "\n",
        "\n",
        "    print(f'\\nNome da variavel: {col}')\n",
        "    print(f'Quantidade de valores: {df[col].nunique()}')\n",
        "    print(f'Tipo da coluna: {df[col].dtype}')\n",
        "    print(f'Valores ausentes: {(val_null)}')\n",
        "    print(df[col].unique())\n",
        "\n",
        "# chamar a funcao em nosso dataset\n",
        "unique_val(df)"
      ],
      "metadata": {
        "id": "BObfwJxMf7Eb"
      },
      "execution_count": null,
      "outputs": []
    },
    {
      "cell_type": "markdown",
      "source": [
        "## Preparação dos Dados\n",
        "\n",
        "Após analisar cada variável, vamos começar a engenharia em nossos dados. Primeiro, vamos retirar as colunas que não utilizaremos em nossos dados por diversos motivos."
      ],
      "metadata": {
        "id": "0_ftcftjW7Gq"
      }
    },
    {
      "cell_type": "code",
      "source": [
        "# criar cópia dos dados originais\n",
        "df_clean = df.copy()\n",
        "\n",
        "# dropar variáveis com valor único\n",
        "df_clean.drop(['external_data_provider_credit_checks_last_2_year', 'channel'],axis=1, inplace=True)\n",
        "\n",
        "# dropar as variáveis ids e phone_number\n",
        "df_clean.drop(['ids'],axis=1, inplace=True)\n",
        "\n",
        "# dropar variáveis categóricas com o valor muito alto de valores\n",
        "df_clean.drop(['application_time_applied', 'external_data_provider_first_name', 'job_name', 'shipping_zip_code', 'reason', 'zip', 'user_agent'],\n",
        "              axis=1, inplace=True)\n",
        "\n",
        "#d ropar variável que não utilizaremos ou que carecem de informação para ajustes\n",
        "df_clean.drop(['target_fraud', 'external_data_provider_credit_checks_last_year','lat_lon', 'profile_phone_number'],\n",
        "              inplace=True, axis=1)\n",
        "\n",
        "# dropar linhas que possuem diversas features sem informação\n",
        "df_clean.dropna(subset=['risk_rate', 'income', 'state', 'real_state', 'score_1', 'n_accounts', 'score_2', 'score_3'],\n",
        "                inplace=True)\n",
        "\n",
        "df_clean.dropna(subset=['target_default'], axis=0, inplace=True)"
      ],
      "metadata": {
        "id": "-KmRaQeae1RQ"
      },
      "execution_count": 48,
      "outputs": []
    },
    {
      "cell_type": "markdown",
      "source": [
        "Retirando as variáveis necessárias, vamos ajustar os valores ausentes."
      ],
      "metadata": {
        "id": "Ur1XykImSiau"
      }
    },
    {
      "cell_type": "code",
      "source": [
        "# preencher os valores ausentes com 0\n",
        "df_clean.last_amount_borrowed.fillna(0, inplace=True)\n",
        "df_clean.last_borrowed_in_months.fillna(0, inplace=True)\n",
        "df_clean.credit_limit.fillna(0, inplace=True)\n",
        "df_clean.n_bankruptcies.fillna(0, inplace=True)\n",
        "df_clean.n_defaulted_loans.fillna(0, inplace=True)\n",
        "\n",
        "# preencher os valores ausentes com a moda\n",
        "df_clean.ok_since.fillna(df_clean.ok_since.mode()[0], inplace=True)\n",
        "df_clean.n_issues.fillna(df_clean.n_issues.mode()[0], inplace=True)\n",
        "df_clean.external_data_provider_email_seen_before.fillna(df['external_data_provider_email_seen_before'].mode()[0], inplace=True)\n",
        "\n",
        "# preencher os valores ausentes com False\n",
        "df_clean.facebook_profile.fillna(False, inplace=True)\n",
        "\n",
        "# preencher os valores ausentes com o valor mais utilizado na variavel\n",
        "df_clean.marketing_channel.fillna('Website', inplace=True)"
      ],
      "metadata": {
        "id": "8cl0U-fHG_9B"
      },
      "execution_count": 49,
      "outputs": []
    },
    {
      "cell_type": "markdown",
      "source": [
        "Para evitar problemas desde já, a variável 'reported_income' possui valores [infinitos](https://numpy.org/devdocs/reference/constants.html). Vamos retirar esses valores do nosso dataset e trocar os valores nulos pela moda da variável."
      ],
      "metadata": {
        "id": "rnutOxfcYfmw"
      }
    },
    {
      "cell_type": "code",
      "source": [
        "# retirar valores infitos dos dados\n",
        "df_clean.replace([np.inf, -np.inf], np.nan, inplace=True)\n",
        "\n",
        "# substituir valores nulos pela moda da variavel\n",
        "df_clean.reported_income.fillna(df_clean.reported_income.mode()[0], inplace=True)"
      ],
      "metadata": {
        "id": "RsHON7LHZT1H"
      },
      "execution_count": 50,
      "outputs": []
    },
    {
      "cell_type": "markdown",
      "source": [
        "Podemos observar também que a variável 'external_data_provider_email_seen_before' possui valores negativos e a variável 'email' possui valores escritos errados. Vamos ajustar isso."
      ],
      "metadata": {
        "id": "2TgxrgwCSpiC"
      }
    },
    {
      "cell_type": "code",
      "source": [
        "# substituir valores negativos na variavel 'external_data_provider_email_seen_before'\n",
        "df_clean.external_data_provider_email_seen_before.replace(-999, 0, inplace=True)\n",
        "df_clean.external_data_provider_email_seen_before.replace(-1, 0, inplace=True)\n",
        "\n",
        "# substituir valores negativos na variavel 'email'\n",
        "df_clean.email.replace('gmaill', 'gmail', inplace=True)\n",
        "df_clean.email.replace('hotmaill', 'hotmaill', inplace=True)"
      ],
      "metadata": {
        "id": "2Z3Fyt3CP6z_"
      },
      "execution_count": 51,
      "outputs": []
    },
    {
      "cell_type": "markdown",
      "source": [
        "Após todas as transformações, vamos conferir se nossos dados não possuem de fato nenhum valor nulo."
      ],
      "metadata": {
        "id": "h3duAyvLTZUC"
      }
    },
    {
      "cell_type": "code",
      "source": [
        "# ver porcentagem de valores ausente por variavel\n",
        "print(f'Porcentagem de valores ausentes por variavel:\\n{df_clean.isnull().sum().sort_values(ascending=False)/df.shape[0]}\\n')"
      ],
      "metadata": {
        "colab": {
          "base_uri": "https://localhost:8080/"
        },
        "id": "2mv0hluAgFcY",
        "outputId": "ca2ad6a9-f10a-443d-8b0b-dd35893798a7"
      },
      "execution_count": 52,
      "outputs": [
        {
          "output_type": "stream",
          "name": "stdout",
          "text": [
            "Porcentagem de valores ausentes por variavel:\n",
            "target_default                                     0.0\n",
            "ok_since                                           0.0\n",
            "shipping_state                                     0.0\n",
            "reported_income                                    0.0\n",
            "marketing_channel                                  0.0\n",
            "external_data_provider_fraud_score                 0.0\n",
            "external_data_provider_email_seen_before           0.0\n",
            "external_data_provider_credit_checks_last_month    0.0\n",
            "email                                              0.0\n",
            "application_time_in_funnel                         0.0\n",
            "n_issues                                           0.0\n",
            "n_accounts                                         0.0\n",
            "n_defaulted_loans                                  0.0\n",
            "n_bankruptcies                                     0.0\n",
            "real_state                                         0.0\n",
            "score_1                                            0.0\n",
            "state                                              0.0\n",
            "facebook_profile                                   0.0\n",
            "income                                             0.0\n",
            "credit_limit                                       0.0\n",
            "last_borrowed_in_months                            0.0\n",
            "last_amount_borrowed                               0.0\n",
            "risk_rate                                          0.0\n",
            "score_6                                            0.0\n",
            "score_5                                            0.0\n",
            "score_4                                            0.0\n",
            "score_3                                            0.0\n",
            "score_2                                            0.0\n",
            "profile_tags                                       0.0\n",
            "dtype: float64\n",
            "\n"
          ]
        }
      ]
    },
    {
      "cell_type": "markdown",
      "source": [
        "Agora que já fizemos os ajustes iniciais dos nossos dados, vamos começar alguns ajustes para que nosso modelo consiga ler cada variável. Vamos começar transformando a variavel 'profile_tags'."
      ],
      "metadata": {
        "id": "tQIuo9sLbCOk"
      }
    },
    {
      "cell_type": "code",
      "source": [
        "# criar a funcao que utilizaremos\n",
        "def extract_content_between_brackets(text):\n",
        "\n",
        "    ''' A lógica dessa função é extrair e retornar o que está entre os\n",
        "     caracteres '[' e ']' na variável 'profile_tags'''\n",
        "\n",
        "    start_index = text.find('[') + 1\n",
        "    end_index = text.find(']')\n",
        "    return eval(text[start_index:end_index])\n",
        "\n",
        "# aplicar a funcao criada em nossa variavel\n",
        "df_clean['profile_tags'] = df_clean['profile_tags'].apply(extract_content_between_brackets)"
      ],
      "metadata": {
        "id": "CXPIbHGAM9Qt"
      },
      "execution_count": 53,
      "outputs": []
    },
    {
      "cell_type": "markdown",
      "source": [
        "Para facilitar as transformações que realizaremos, vamos separar nossas variáveis em 3 grupos:\n",
        "\n",
        "* Variáveis numéricas\n",
        "* Variáveis binárias\n",
        "* Variáveis categóricas\n",
        "\n",
        "Essas separações serão efetuadas baseadas no tipo da variável e na quantidade de valores únicos presentes na variável."
      ],
      "metadata": {
        "id": "GABwszngbx64"
      }
    },
    {
      "cell_type": "code",
      "source": [
        "# separando as variaveis numericas\n",
        "num_cols = [i for i in df_clean.columns if df_clean[i].dtype == 'float64' or df[i].dtype == 'int64']\n",
        "\n",
        "# separando as variaveis binarias\n",
        "bin_cols = [i for i in df_clean.columns if df_clean[i].nunique() == 2]\n",
        "\n",
        "# separando as variaveis categoricas\n",
        "cat_cols = [i for i in df_clean.columns if i not in num_cols and i not in bin_cols]"
      ],
      "metadata": {
        "id": "8mySRS1uWMzE"
      },
      "execution_count": 54,
      "outputs": []
    },
    {
      "cell_type": "markdown",
      "source": [
        "Agora que separamos, vamos transformar cada tipo de grupo de variáveis."
      ],
      "metadata": {
        "id": "ix7dTQEdcGhU"
      }
    },
    {
      "cell_type": "code",
      "source": [
        "# criar uma copia dos dados\n",
        "df_transformed = df_clean.copy()\n",
        "\n",
        "# transformar variaveis binarias\n",
        "for i in bin_cols:\n",
        "  df_transformed[i] = df_transformed[i].astype('float')"
      ],
      "metadata": {
        "id": "zTX01luXuhOe"
      },
      "execution_count": 55,
      "outputs": []
    },
    {
      "cell_type": "markdown",
      "source": [
        "Vamos separar mais ainda as nossas variáveis categóricas. Variáveis com mais de 10 valores únicos, variáveis com menos de 10 valores únicos e um outro grupo apenas com a variável 'profile_tags' que precisará de um tratamento mais cuidadoso."
      ],
      "metadata": {
        "id": "XYb7OIsPmD3L"
      }
    },
    {
      "cell_type": "code",
      "source": [
        "df_transformed[cat_cols].nunique()"
      ],
      "metadata": {
        "colab": {
          "base_uri": "https://localhost:8080/"
        },
        "id": "RtvBj6yuuj0S",
        "outputId": "54a8d4f9-e9f7-4f8b-8f8f-836379659bc7"
      },
      "execution_count": 56,
      "outputs": [
        {
          "output_type": "execute_result",
          "data": {
            "text/plain": [
              "score_1                  7\n",
              "score_2                 35\n",
              "state                   50\n",
              "real_state               5\n",
              "email                    6\n",
              "marketing_channel        9\n",
              "shipping_state          25\n",
              "profile_tags         24458\n",
              "dtype: int64"
            ]
          },
          "metadata": {},
          "execution_count": 56
        }
      ]
    },
    {
      "cell_type": "code",
      "source": [
        "# separar nossa variavel 'profile_tags'\n",
        "esp_cols = [i for i in cat_cols if i == 'profile_tags']\n",
        "\n",
        "# separar variaveis com alta cardinalidade\n",
        "high_car_cols = [i for i in cat_cols if df_transformed[i].nunique() >= 10 and i not in esp_cols]\n",
        "\n",
        "# separar variaveis baixa cardinalidade\n",
        "low_car_cols = [i for i in cat_cols if df_transformed[i].nunique() < 10 and i not in esp_cols + high_car_cols]\n",
        "\n",
        "# ver cada grupo\n",
        "print(f'Variaveis especiais:{esp_cols}\\n')\n",
        "print(f'Variaveis de baixa cardinalidade: {low_car_cols}\\n')\n",
        "print(f'Variaveis de alta cardinalidade: {high_car_cols}\\n')"
      ],
      "metadata": {
        "id": "jvm8ddnTr0vI",
        "colab": {
          "base_uri": "https://localhost:8080/"
        },
        "outputId": "5a684b18-fdb0-47e5-d2df-783fe0a10232"
      },
      "execution_count": 57,
      "outputs": [
        {
          "output_type": "stream",
          "name": "stdout",
          "text": [
            "Variaveis especiais:['profile_tags']\n",
            "\n",
            "Variaveis de baixa cardinalidade: ['score_1', 'real_state', 'email', 'marketing_channel']\n",
            "\n",
            "Variaveis de alta cardinalidade: ['score_2', 'state', 'shipping_state']\n",
            "\n"
          ]
        }
      ]
    },
    {
      "cell_type": "markdown",
      "source": [
        "Para transformar cada grupo, vamos seguir a seguinte lógica:\n",
        "\n",
        "* Variáveis de baixa cardinalidade serão transformadas utilizando a função '[get_dummies](https://pandas.pydata.org/docs/reference/api/pandas.get_dummies.html)'.\n",
        "* Variáveis de alta cardinalidade serão transformadas utilizando a função '[LabelEncoder](https://scikit-learn.org/stable/modules/generated/sklearn.preprocessing.LabelEncoder.html)'.\n",
        "* A variável no grupo especial será transformada baseado na lógica de one-hot-encoding, onde cada 'tag' será transformada em uma nova variável e, caso a tag presente no nome da variável estiver presente como valor da variável 'profile_tags', será retornado o valor 1, caso não, será retornado o valor 0.\n",
        "\n",
        "Vamos começar com as variáveis de baixa cardinalidade."
      ],
      "metadata": {
        "id": "_bji2bC86foS"
      }
    },
    {
      "cell_type": "code",
      "source": [
        "# transforma as variaveis de baixa cardinalidade\n",
        "df_transformed = pd.concat([df_transformed, pd.get_dummies(df_transformed[low_car_cols], drop_first=True)], axis=1)\n",
        "\n",
        "# dropa as variaveis originais\n",
        "df_transformed = df_transformed.drop(low_car_cols, axis=1)"
      ],
      "metadata": {
        "id": "0XbNcxnTvFje"
      },
      "execution_count": 58,
      "outputs": []
    },
    {
      "cell_type": "markdown",
      "source": [
        "Agora, vamos transformar as variáveis de alta cardinalidade com a função 'LabelEncoder'."
      ],
      "metadata": {
        "id": "yIG_sDqXi4qV"
      }
    },
    {
      "cell_type": "code",
      "source": [
        "# instancia o transformador de variaveis\n",
        "le = LabelEncoder()\n",
        "\n",
        "# transforma as variaveis de alta cardinalidade\n",
        "for col in high_car_cols:\n",
        "    df_transformed[col] = le.fit_transform(df_transformed[col])"
      ],
      "metadata": {
        "id": "FNw0hNv167gb"
      },
      "execution_count": 59,
      "outputs": []
    },
    {
      "cell_type": "markdown",
      "source": [
        "Agora vamos transformar a variável 'profile_tags' conforme a lógica citada anteriormente."
      ],
      "metadata": {
        "id": "pSXaPD4djB_v"
      }
    },
    {
      "cell_type": "code",
      "source": [
        "# cria novas variaveis e preenche elas\n",
        "for i in list(set(df_transformed['profile_tags'].explode())):\n",
        "    df_transformed[i] = df_transformed['profile_tags'].apply(lambda x: 1 if i in x else 0)\n",
        "\n",
        "# dropa a variavel original\n",
        "df_transformed.drop('profile_tags', axis=1, inplace=True)"
      ],
      "metadata": {
        "id": "saOSujLlXKDb"
      },
      "execution_count": 60,
      "outputs": []
    },
    {
      "cell_type": "markdown",
      "source": [
        "## Modelo de Machine Learning\n",
        "\n",
        "Agora, vamos separar nossa variável alvo dos nossos dados e dividir entre dados de treino e teste."
      ],
      "metadata": {
        "id": "aFY5yzJekEsU"
      }
    },
    {
      "cell_type": "code",
      "source": [
        "# separar a variável alvo dos demais dados\n",
        "X = df_transformed.drop('target_default', axis=1)\n",
        "y = df_transformed['target_default']\n",
        "\n",
        "# dividir os dados entre treino e teste\n",
        "X_train, X_test, y_train, y_test = train_test_split(X, y)"
      ],
      "metadata": {
        "id": "Wf-2i5lWBVae"
      },
      "execution_count": 61,
      "outputs": []
    },
    {
      "cell_type": "markdown",
      "source": [
        "Com nossos dados dividios, vamos criar uma baseline para realização de testes com os dados."
      ],
      "metadata": {
        "id": "1B6tgGpUkiTp"
      }
    },
    {
      "cell_type": "code",
      "source": [
        "def val_model(X, y, modelo, quite=False):\n",
        "\n",
        "    #criar pipeline\n",
        "    pipeline = Pipeline([\n",
        "        ('sacaler', StandardScaler()),\n",
        "        ('model', modelo)\n",
        "    ])\n",
        "\n",
        "    # medir metrica de 'accuracy'\n",
        "    scores = cross_val_score(pipeline, X, y, scoring='accuracy', error_score='raise')\n",
        "\n",
        "    if quite == False:\n",
        "        print(\"Accuracy: {:.2f} (+/- {:.2f})\".format(scores.mean(), scores.std()))\n",
        "\n",
        "    return scores.mean()"
      ],
      "metadata": {
        "id": "rnXWaRk1BgFq"
      },
      "execution_count": 62,
      "outputs": []
    },
    {
      "cell_type": "markdown",
      "source": [
        "Vamos testar com o modelo 'RandomForestClassifier'."
      ],
      "metadata": {
        "id": "mekIRNxlkxnU"
      }
    },
    {
      "cell_type": "code",
      "source": [
        "# instanciar modelo\n",
        "rf = RandomForestClassifier()\n",
        "\n",
        "# avaliar desempenho\n",
        "score_baseline = val_model(X_train, y_train, rf)"
      ],
      "metadata": {
        "colab": {
          "base_uri": "https://localhost:8080/"
        },
        "id": "L2UV3laiBiHB",
        "outputId": "63163f94-7ab4-4528-c9c7-9d8f5abdaaa9"
      },
      "execution_count": 63,
      "outputs": [
        {
          "output_type": "stream",
          "name": "stdout",
          "text": [
            "Accuracy: 0.84 (+/- 0.00)\n"
          ]
        }
      ]
    },
    {
      "cell_type": "markdown",
      "source": [
        "Nosso modelo sem nenhum ajuste se saiu bem com nossos dados de treino. Como nossos dados possuem diversas escalas diferentes, vamos padronizar esses com a função ['StandarScaler'](https://scikit-learn.org/stable/modules/generated/sklearn.preprocessing.StandardScaler.html)."
      ],
      "metadata": {
        "id": "Dn9c0Cl5lKUK"
      }
    },
    {
      "cell_type": "code",
      "source": [
        "# padronizar os  dados\n",
        "scaler = StandardScaler().fit(X_train)\n",
        "\n",
        "# transformar os dados\n",
        "X_train = scaler.transform(X_train)"
      ],
      "metadata": {
        "id": "-h0knEmTW0tn"
      },
      "execution_count": 64,
      "outputs": []
    },
    {
      "cell_type": "markdown",
      "source": [
        "Agora, vamos testar e avalair diversos modelos diferentes."
      ],
      "metadata": {
        "id": "74qC5K8moYZp"
      }
    },
    {
      "cell_type": "code",
      "source": [
        "# instanciar modelos\n",
        "rf = RandomForestClassifier()\n",
        "dt = DecisionTreeClassifier()\n",
        "lr = LogisticRegression()\n",
        "xgb = XGBClassifier()\n",
        "\n",
        "model = []\n",
        "recall = []\n",
        "\n",
        "# avaliar o desempenho\n",
        "for clf in (rf, dt, lr, xgb):\n",
        "    model.append(clf.__class__.__name__)\n",
        "    recall.append(val_model(X_train, y_train, clf, quite=True))\n",
        "\n",
        "pd.DataFrame(data=recall, index=model, columns=['Accuracy'])"
      ],
      "metadata": {
        "colab": {
          "base_uri": "https://localhost:8080/",
          "height": 175
        },
        "id": "-ggEYrOJW2qs",
        "outputId": "95105987-8e0a-4501-b669-6c8175c773a1"
      },
      "execution_count": 65,
      "outputs": [
        {
          "output_type": "execute_result",
          "data": {
            "text/plain": [
              "                        Accuracy\n",
              "RandomForestClassifier  0.842453\n",
              "DecisionTreeClassifier  0.747037\n",
              "LogisticRegression      0.843284\n",
              "XGBClassifier           0.835521"
            ],
            "text/html": [
              "\n",
              "  <div id=\"df-4c616d42-28e4-4fe1-a96a-550c7edf369a\" class=\"colab-df-container\">\n",
              "    <div>\n",
              "<style scoped>\n",
              "    .dataframe tbody tr th:only-of-type {\n",
              "        vertical-align: middle;\n",
              "    }\n",
              "\n",
              "    .dataframe tbody tr th {\n",
              "        vertical-align: top;\n",
              "    }\n",
              "\n",
              "    .dataframe thead th {\n",
              "        text-align: right;\n",
              "    }\n",
              "</style>\n",
              "<table border=\"1\" class=\"dataframe\">\n",
              "  <thead>\n",
              "    <tr style=\"text-align: right;\">\n",
              "      <th></th>\n",
              "      <th>Accuracy</th>\n",
              "    </tr>\n",
              "  </thead>\n",
              "  <tbody>\n",
              "    <tr>\n",
              "      <th>RandomForestClassifier</th>\n",
              "      <td>0.842453</td>\n",
              "    </tr>\n",
              "    <tr>\n",
              "      <th>DecisionTreeClassifier</th>\n",
              "      <td>0.747037</td>\n",
              "    </tr>\n",
              "    <tr>\n",
              "      <th>LogisticRegression</th>\n",
              "      <td>0.843284</td>\n",
              "    </tr>\n",
              "    <tr>\n",
              "      <th>XGBClassifier</th>\n",
              "      <td>0.835521</td>\n",
              "    </tr>\n",
              "  </tbody>\n",
              "</table>\n",
              "</div>\n",
              "    <div class=\"colab-df-buttons\">\n",
              "\n",
              "  <div class=\"colab-df-container\">\n",
              "    <button class=\"colab-df-convert\" onclick=\"convertToInteractive('df-4c616d42-28e4-4fe1-a96a-550c7edf369a')\"\n",
              "            title=\"Convert this dataframe to an interactive table.\"\n",
              "            style=\"display:none;\">\n",
              "\n",
              "  <svg xmlns=\"http://www.w3.org/2000/svg\" height=\"24px\" viewBox=\"0 -960 960 960\">\n",
              "    <path d=\"M120-120v-720h720v720H120Zm60-500h600v-160H180v160Zm220 220h160v-160H400v160Zm0 220h160v-160H400v160ZM180-400h160v-160H180v160Zm440 0h160v-160H620v160ZM180-180h160v-160H180v160Zm440 0h160v-160H620v160Z\"/>\n",
              "  </svg>\n",
              "    </button>\n",
              "\n",
              "  <style>\n",
              "    .colab-df-container {\n",
              "      display:flex;\n",
              "      gap: 12px;\n",
              "    }\n",
              "\n",
              "    .colab-df-convert {\n",
              "      background-color: #E8F0FE;\n",
              "      border: none;\n",
              "      border-radius: 50%;\n",
              "      cursor: pointer;\n",
              "      display: none;\n",
              "      fill: #1967D2;\n",
              "      height: 32px;\n",
              "      padding: 0 0 0 0;\n",
              "      width: 32px;\n",
              "    }\n",
              "\n",
              "    .colab-df-convert:hover {\n",
              "      background-color: #E2EBFA;\n",
              "      box-shadow: 0px 1px 2px rgba(60, 64, 67, 0.3), 0px 1px 3px 1px rgba(60, 64, 67, 0.15);\n",
              "      fill: #174EA6;\n",
              "    }\n",
              "\n",
              "    .colab-df-buttons div {\n",
              "      margin-bottom: 4px;\n",
              "    }\n",
              "\n",
              "    [theme=dark] .colab-df-convert {\n",
              "      background-color: #3B4455;\n",
              "      fill: #D2E3FC;\n",
              "    }\n",
              "\n",
              "    [theme=dark] .colab-df-convert:hover {\n",
              "      background-color: #434B5C;\n",
              "      box-shadow: 0px 1px 3px 1px rgba(0, 0, 0, 0.15);\n",
              "      filter: drop-shadow(0px 1px 2px rgba(0, 0, 0, 0.3));\n",
              "      fill: #FFFFFF;\n",
              "    }\n",
              "  </style>\n",
              "\n",
              "    <script>\n",
              "      const buttonEl =\n",
              "        document.querySelector('#df-4c616d42-28e4-4fe1-a96a-550c7edf369a button.colab-df-convert');\n",
              "      buttonEl.style.display =\n",
              "        google.colab.kernel.accessAllowed ? 'block' : 'none';\n",
              "\n",
              "      async function convertToInteractive(key) {\n",
              "        const element = document.querySelector('#df-4c616d42-28e4-4fe1-a96a-550c7edf369a');\n",
              "        const dataTable =\n",
              "          await google.colab.kernel.invokeFunction('convertToInteractive',\n",
              "                                                    [key], {});\n",
              "        if (!dataTable) return;\n",
              "\n",
              "        const docLinkHtml = 'Like what you see? Visit the ' +\n",
              "          '<a target=\"_blank\" href=https://colab.research.google.com/notebooks/data_table.ipynb>data table notebook</a>'\n",
              "          + ' to learn more about interactive tables.';\n",
              "        element.innerHTML = '';\n",
              "        dataTable['output_type'] = 'display_data';\n",
              "        await google.colab.output.renderOutput(dataTable, element);\n",
              "        const docLink = document.createElement('div');\n",
              "        docLink.innerHTML = docLinkHtml;\n",
              "        element.appendChild(docLink);\n",
              "      }\n",
              "    </script>\n",
              "  </div>\n",
              "\n",
              "\n",
              "<div id=\"df-4a28b682-6dce-460d-aedd-c9c5992a8f7d\">\n",
              "  <button class=\"colab-df-quickchart\" onclick=\"quickchart('df-4a28b682-6dce-460d-aedd-c9c5992a8f7d')\"\n",
              "            title=\"Suggest charts\"\n",
              "            style=\"display:none;\">\n",
              "\n",
              "<svg xmlns=\"http://www.w3.org/2000/svg\" height=\"24px\"viewBox=\"0 0 24 24\"\n",
              "     width=\"24px\">\n",
              "    <g>\n",
              "        <path d=\"M19 3H5c-1.1 0-2 .9-2 2v14c0 1.1.9 2 2 2h14c1.1 0 2-.9 2-2V5c0-1.1-.9-2-2-2zM9 17H7v-7h2v7zm4 0h-2V7h2v10zm4 0h-2v-4h2v4z\"/>\n",
              "    </g>\n",
              "</svg>\n",
              "  </button>\n",
              "\n",
              "<style>\n",
              "  .colab-df-quickchart {\n",
              "      --bg-color: #E8F0FE;\n",
              "      --fill-color: #1967D2;\n",
              "      --hover-bg-color: #E2EBFA;\n",
              "      --hover-fill-color: #174EA6;\n",
              "      --disabled-fill-color: #AAA;\n",
              "      --disabled-bg-color: #DDD;\n",
              "  }\n",
              "\n",
              "  [theme=dark] .colab-df-quickchart {\n",
              "      --bg-color: #3B4455;\n",
              "      --fill-color: #D2E3FC;\n",
              "      --hover-bg-color: #434B5C;\n",
              "      --hover-fill-color: #FFFFFF;\n",
              "      --disabled-bg-color: #3B4455;\n",
              "      --disabled-fill-color: #666;\n",
              "  }\n",
              "\n",
              "  .colab-df-quickchart {\n",
              "    background-color: var(--bg-color);\n",
              "    border: none;\n",
              "    border-radius: 50%;\n",
              "    cursor: pointer;\n",
              "    display: none;\n",
              "    fill: var(--fill-color);\n",
              "    height: 32px;\n",
              "    padding: 0;\n",
              "    width: 32px;\n",
              "  }\n",
              "\n",
              "  .colab-df-quickchart:hover {\n",
              "    background-color: var(--hover-bg-color);\n",
              "    box-shadow: 0 1px 2px rgba(60, 64, 67, 0.3), 0 1px 3px 1px rgba(60, 64, 67, 0.15);\n",
              "    fill: var(--button-hover-fill-color);\n",
              "  }\n",
              "\n",
              "  .colab-df-quickchart-complete:disabled,\n",
              "  .colab-df-quickchart-complete:disabled:hover {\n",
              "    background-color: var(--disabled-bg-color);\n",
              "    fill: var(--disabled-fill-color);\n",
              "    box-shadow: none;\n",
              "  }\n",
              "\n",
              "  .colab-df-spinner {\n",
              "    border: 2px solid var(--fill-color);\n",
              "    border-color: transparent;\n",
              "    border-bottom-color: var(--fill-color);\n",
              "    animation:\n",
              "      spin 1s steps(1) infinite;\n",
              "  }\n",
              "\n",
              "  @keyframes spin {\n",
              "    0% {\n",
              "      border-color: transparent;\n",
              "      border-bottom-color: var(--fill-color);\n",
              "      border-left-color: var(--fill-color);\n",
              "    }\n",
              "    20% {\n",
              "      border-color: transparent;\n",
              "      border-left-color: var(--fill-color);\n",
              "      border-top-color: var(--fill-color);\n",
              "    }\n",
              "    30% {\n",
              "      border-color: transparent;\n",
              "      border-left-color: var(--fill-color);\n",
              "      border-top-color: var(--fill-color);\n",
              "      border-right-color: var(--fill-color);\n",
              "    }\n",
              "    40% {\n",
              "      border-color: transparent;\n",
              "      border-right-color: var(--fill-color);\n",
              "      border-top-color: var(--fill-color);\n",
              "    }\n",
              "    60% {\n",
              "      border-color: transparent;\n",
              "      border-right-color: var(--fill-color);\n",
              "    }\n",
              "    80% {\n",
              "      border-color: transparent;\n",
              "      border-right-color: var(--fill-color);\n",
              "      border-bottom-color: var(--fill-color);\n",
              "    }\n",
              "    90% {\n",
              "      border-color: transparent;\n",
              "      border-bottom-color: var(--fill-color);\n",
              "    }\n",
              "  }\n",
              "</style>\n",
              "\n",
              "  <script>\n",
              "    async function quickchart(key) {\n",
              "      const quickchartButtonEl =\n",
              "        document.querySelector('#' + key + ' button');\n",
              "      quickchartButtonEl.disabled = true;  // To prevent multiple clicks.\n",
              "      quickchartButtonEl.classList.add('colab-df-spinner');\n",
              "      try {\n",
              "        const charts = await google.colab.kernel.invokeFunction(\n",
              "            'suggestCharts', [key], {});\n",
              "      } catch (error) {\n",
              "        console.error('Error during call to suggestCharts:', error);\n",
              "      }\n",
              "      quickchartButtonEl.classList.remove('colab-df-spinner');\n",
              "      quickchartButtonEl.classList.add('colab-df-quickchart-complete');\n",
              "    }\n",
              "    (() => {\n",
              "      let quickchartButtonEl =\n",
              "        document.querySelector('#df-4a28b682-6dce-460d-aedd-c9c5992a8f7d button');\n",
              "      quickchartButtonEl.style.display =\n",
              "        google.colab.kernel.accessAllowed ? 'block' : 'none';\n",
              "    })();\n",
              "  </script>\n",
              "</div>\n",
              "\n",
              "    </div>\n",
              "  </div>\n"
            ]
          },
          "metadata": {},
          "execution_count": 65
        }
      ]
    },
    {
      "cell_type": "markdown",
      "source": [
        "A maior parte dos modelos performou de forma parecida. Vamos mantes o 'XGBClassifier' para nosso projeto. Agora, vamos ver com está balanceada nossa variável alvo."
      ],
      "metadata": {
        "id": "p3ro_FVkozc3"
      }
    },
    {
      "cell_type": "code",
      "source": [
        "fig, ax = plt.subplots()\n",
        "\n",
        "ax.hist(df_transformed['target_default'], color='#B39C84', edgecolor='#332617')\n",
        "ax.spines[['right', 'top']].set_visible(False)\n",
        "\n",
        "title_box_props = dict(boxstyle='round', facecolor='#4C4032', edgecolor='#332617', alpha=0.8)\n",
        "ax.set_title('profile_target', color='white', fontsize=12, ha='center', va='center', bbox=title_box_props)\n",
        "\n",
        "plt.show();"
      ],
      "metadata": {
        "colab": {
          "base_uri": "https://localhost:8080/",
          "height": 448
        },
        "id": "DM3efeDCo92I",
        "outputId": "2baa5dbe-e9e2-447a-a287-b5555c756761"
      },
      "execution_count": 66,
      "outputs": [
        {
          "output_type": "display_data",
          "data": {
            "text/plain": [
              "<Figure size 640x480 with 1 Axes>"
            ],
            "image/png": "[encoded data removed]"
          },
          "metadata": {}
        }
      ]
    },
    {
      "cell_type": "markdown",
      "source": [
        "Como podemos ver, se trata de uma variável desbalanceada. Teremos que tratar isso. Outra questão que devermos tratar é a quantidade de variáveis de nossos dados. Para isso, seguiremos da seguinte forma:\n",
        "\n",
        "* Utilizaremos a função ['RFE'](https://scikit-learn.org/stable/modules/generated/sklearn.feature_selection.RFE.html) para selecionar as variáveis mais impactantes.\n",
        "* Utilizaremos o transformador ['RandomUnderSampler'](https://imbalanced-learn.org/stable/references/generated/imblearn.under_sampling.RandomUnderSampler.html) para balancear os dados."
      ],
      "metadata": {
        "id": "8xQ5P-GSo-ae"
      }
    },
    {
      "cell_type": "code",
      "source": [
        "# instanciar o modelo\n",
        "xgb = XGBClassifier()\n",
        "\n",
        "# instanciar o transformador\n",
        "rus = RandomUnderSampler()\n",
        "\n",
        "# transformar os dados\n",
        "X_res, y_res = rus.fit_resample(X, y)\n",
        "\n",
        "# instanciar o selecionador de variaveis\n",
        "selector = RFE(xgb, n_features_to_select=40)\n",
        "\n",
        "# treinar o selecionador\n",
        "selector.fit(X_res, y_res)\n",
        "\n",
        "# transformar os dados\n",
        "X_train_selected = selector.transform(X_res)\n",
        "X_test_selected = selector.transform(X_test)"
      ],
      "metadata": {
        "id": "m3cQrw7HXRqw"
      },
      "execution_count": 67,
      "outputs": []
    },
    {
      "cell_type": "markdown",
      "source": [
        "Agora temos quase tudo pronto para avaliar nosso modelo com os dados de teste. Porém, antes disso, iremos selecionar os melhores hiperparâmetros para nosso modelo. Faremos isso através da função ['GridSearchCV'](https://scikit-learn.org/stable/modules/generated/sklearn.model_selection.GridSearchCV.html)."
      ],
      "metadata": {
        "id": "GpunmLWnuwRH"
      }
    },
    {
      "cell_type": "code",
      "source": [
        "# instanciar modelo\n",
        "xgb = XGBClassifier(learning_rate=0.1)\n",
        "\n",
        "# instanciar grade de hiperparametros\n",
        "param_grid = {\n",
        " 'n_estimators':range(0,1000,50),\n",
        "}\n",
        "\n",
        "# identificar melhor parâmetro\n",
        "kfold = StratifiedKFold(n_splits=10, shuffle=True)\n",
        "grid_search = GridSearchCV(xgb, param_grid, scoring=\"recall\", n_jobs=-1, cv=kfold)\n",
        "grid_result = grid_search.fit(X_train_selected, y_res)\n",
        "\n",
        "# ver resultados\n",
        "print(\"Melhor: {} para {}\".format(grid_result.best_score_, grid_result.best_params_))"
      ],
      "metadata": {
        "colab": {
          "base_uri": "https://localhost:8080/"
        },
        "id": "ckM1MOgqXa4h",
        "outputId": "98698cab-af84-4a2c-afd3-f59500406dff"
      },
      "execution_count": 68,
      "outputs": [
        {
          "output_type": "stream",
          "name": "stdout",
          "text": [
            "Melhor: 0.6593601847724786 para {'n_estimators': 50}\n"
          ]
        }
      ]
    },
    {
      "cell_type": "code",
      "source": [
        "# instanciar modelo\n",
        "xgb = XGBClassifier(learning_rate=0.1, n_estimators=50)\n",
        "\n",
        "# instanciar grade de hiperparametros\n",
        "param_grid = {\n",
        " 'max_depth':range(1,8,1)\n",
        "}\n",
        "\n",
        "# identificar melhor parâmetro\n",
        "kfold = StratifiedKFold(n_splits=10, shuffle=True)\n",
        "grid_search = GridSearchCV(xgb, param_grid, scoring=\"recall\", n_jobs=-1, cv=kfold)\n",
        "grid_result = grid_search.fit(X_train_selected, y_res)\n",
        "\n",
        "# ver resultados\n",
        "print(\"Melhor: {} para {}\".format(grid_result.best_score_, grid_result.best_params_))"
      ],
      "metadata": {
        "colab": {
          "base_uri": "https://localhost:8080/"
        },
        "id": "zUyRNDAojM69",
        "outputId": "74f15d0d-145a-4ce7-899e-4de797234492"
      },
      "execution_count": 70,
      "outputs": [
        {
          "output_type": "stream",
          "name": "stdout",
          "text": [
            "Melhor: 0.6680684432558495 para {'max_depth': 1}\n"
          ]
        }
      ]
    },
    {
      "cell_type": "code",
      "source": [
        "# instanciar modelo\n",
        "xgb = XGBClassifier(learning_rate=0.1, n_estimators=50, max_depth=1)\n",
        "\n",
        "# instanciar grade de hiperparametros\n",
        "param_grid = {\n",
        " 'min_child_weight':range(1,5,1)\n",
        "}\n",
        "\n",
        "# identificar melhor parâmetro\n",
        "kfold = StratifiedKFold(n_splits=10, shuffle=True)\n",
        "grid_search = GridSearchCV(xgb, param_grid, scoring=\"recall\", n_jobs=-1, cv=kfold)\n",
        "grid_result = grid_search.fit(X_train_selected, y_res)\n",
        "\n",
        "# ver resultados\n",
        "print(\"Melhor: {} para {}\".format(grid_result.best_score_, grid_result.best_params_))"
      ],
      "metadata": {
        "colab": {
          "base_uri": "https://localhost:8080/"
        },
        "id": "Olg8sQ9B6aFq",
        "outputId": "156d66fe-d1f2-4398-edbd-488abe6fb3b4"
      },
      "execution_count": 71,
      "outputs": [
        {
          "output_type": "stream",
          "name": "stdout",
          "text": [
            "Melhor: 0.6668636402519461 para {'min_child_weight': 1}\n"
          ]
        }
      ]
    },
    {
      "cell_type": "code",
      "source": [
        "# instanciar modelo\n",
        "xgb = XGBClassifier(learning_rate=0.1, n_estimators=50, max_depth=1, min_child_weight=1)\n",
        "\n",
        "# instanciar grade de hiperparametros\n",
        "param_grid = {\n",
        " 'gamma':[i/10.0 for i in range(0,5)]\n",
        "}\n",
        "\n",
        "# identificar melhor parâmetro\n",
        "kfold = StratifiedKFold(n_splits=10, shuffle=True)\n",
        "grid_search = GridSearchCV(xgb, param_grid, scoring=\"recall\", n_jobs=-1, cv=kfold)\n",
        "grid_result = grid_search.fit(X_train_selected, y_res)\n",
        "\n",
        "# ver resultados\n",
        "print(\"Melhor: {} para {}\".format(grid_result.best_score_, grid_result.best_params_))"
      ],
      "metadata": {
        "colab": {
          "base_uri": "https://localhost:8080/"
        },
        "id": "ymo1320Z6kbN",
        "outputId": "5cd8e489-b080-4912-fae6-d705ab24b8d3"
      },
      "execution_count": 74,
      "outputs": [
        {
          "output_type": "stream",
          "name": "stdout",
          "text": [
            "Melhor: 0.6668728698713706 para {'gamma': 0.0}\n"
          ]
        }
      ]
    },
    {
      "cell_type": "code",
      "source": [
        "# instanciar modelo\n",
        "xgb = XGBClassifier(gamma=0.0, n_estimators=50, max_depth=1, min_child_weight=1)\n",
        "\n",
        "# instanciar grade de hiperparametros\n",
        "param_grid = {\n",
        " 'learning_rate':[0.001, 0.01, 0.1, 1]\n",
        "}\n",
        "\n",
        "# identificar melhor parâmetro\n",
        "kfold = StratifiedKFold(n_splits=10, shuffle=True)\n",
        "grid_search = GridSearchCV(xgb, param_grid, scoring=\"recall\", n_jobs=-1, cv=kfold)\n",
        "grid_result = grid_search.fit(X_train_selected, y_res)\n",
        "\n",
        "# ver resultados\n",
        "print(\"Melhor: {} para {}\".format(grid_result.best_score_, grid_result.best_params_))"
      ],
      "metadata": {
        "colab": {
          "base_uri": "https://localhost:8080/"
        },
        "id": "7Zw4sdKzHUh8",
        "outputId": "921da78d-be41-4af4-ea57-6c88a2e62887"
      },
      "execution_count": 75,
      "outputs": [
        {
          "output_type": "stream",
          "name": "stdout",
          "text": [
            "Melhor: 0.6619181400290846 para {'learning_rate': 0.1}\n"
          ]
        }
      ]
    },
    {
      "cell_type": "markdown",
      "source": [
        "Agora que temos os valores dos nossos melhores hiperparametros, vamos de fato instanciar nosso melhor modelo, treinar e avaliar ele."
      ],
      "metadata": {
        "id": "PIuJL2a8vlF1"
      }
    },
    {
      "cell_type": "code",
      "source": [
        "# padronizar dados de teste\n",
        "X_test = scaler.transform(X_test)\n",
        "\n",
        "# instanciar modelo\n",
        "xgb = XGBClassifier(learning_rate=0.1, gamma=0.0, n_estimators=50, max_depth=1, min_child_weight=1)\n",
        "\n",
        "# treinar nosso modelo\n",
        "xgb.fit(X_train_selected, y_res)\n",
        "\n",
        "# testar nosso modelo\n",
        "y_pred = xgb.predict(X_test_selected)"
      ],
      "metadata": {
        "id": "Cvm8V-G-DbZh"
      },
      "execution_count": 76,
      "outputs": []
    },
    {
      "cell_type": "markdown",
      "source": [
        "## Avaliar o desempenho do modelo\n",
        "\n",
        "Agora, vamos ver como nosso modelo se saiu."
      ],
      "metadata": {
        "id": "Nnj_VZQ_v-Zc"
      }
    },
    {
      "cell_type": "code",
      "source": [
        "# instanciar as matricas\n",
        "accuracy = accuracy_score(y_test, y_pred)\n",
        "precision = precision_score(y_test, y_pred)\n",
        "recall = recall_score(y_test, y_pred)\n",
        "f1 = f1_score(y_test, y_pred)\n",
        "\n",
        "# exibir as matricas\n",
        "print(f'Acurácia: {accuracy:.4f}')\n",
        "print(f'Precisão: {precision:.4f}')\n",
        "print(f'Recall: {recall:.4f}')\n",
        "print(f'F1 Score: {f1:.4f}')"
      ],
      "metadata": {
        "colab": {
          "base_uri": "https://localhost:8080/"
        },
        "id": "Gy3oGOi7O94J",
        "outputId": "da33f98f-fae6-4d12-fe46-8f0171abe1ad"
      },
      "execution_count": 77,
      "outputs": [
        {
          "output_type": "stream",
          "name": "stdout",
          "text": [
            "Acurácia: 0.6355\n",
            "Precisão: 0.2585\n",
            "Recall: 0.6542\n",
            "F1 Score: 0.3706\n"
          ]
        }
      ]
    },
    {
      "cell_type": "code",
      "source": [
        "# criar a matriz de confusao\n",
        "conf_matrix = confusion_matrix(y_test, y_pred)\n",
        "\n",
        "# plotar o mapa de calor\n",
        "sns.heatmap(conf_matrix, square=True, annot=True, cbar=False, fmt='d')"
      ],
      "metadata": {
        "colab": {
          "base_uri": "https://localhost:8080/",
          "height": 447
        },
        "id": "nmg0n8ymPB2s",
        "outputId": "f35e9956-cac2-4754-fa7b-56d00b098110"
      },
      "execution_count": 78,
      "outputs": [
        {
          "output_type": "execute_result",
          "data": {
            "text/plain": [
              "<Axes: >"
            ]
          },
          "metadata": {},
          "execution_count": 78
        },
        {
          "output_type": "display_data",
          "data": {
            "text/plain": [
              "<Figure size 640x480 with 1 Axes>"
            ],
            "image/png": "[encoded data removed]"
          },
          "metadata": {}
        }
      ]
    },
    {
      "cell_type": "markdown",
      "source": [
        "## Conclusão\n",
        "\n",
        "Utilizando alguma técnicas conseguimos chegar a um resultado minimamente satisfatório, ainda cabendo diversas melhorias em relação ao tratamento dos dados, realizando análises mais profundas para preencher e retirar valores nulos, e em relação a engenharia de variáveis, podendo criar ou retirar algumas variáveis.\n",
        "\n",
        "Ainda assim, podemos desde já entender a importância do aprendizado de máquina para instituições desse tipo."
      ],
      "metadata": {
        "id": "kkpOeNslwF7L"
      }
    }
  ]
}